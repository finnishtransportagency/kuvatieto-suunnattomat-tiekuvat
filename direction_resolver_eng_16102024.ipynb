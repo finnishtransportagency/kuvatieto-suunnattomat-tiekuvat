{
 "cells": [
  {
   "cell_type": "markdown",
   "metadata": {},
   "source": [
    "Lue lisää tämän tehtävänannon taustasta samassa GitHub-repossa olevasta pdf-muotoisesta Powerpoint-esityksestä! "
   ]
  },
  {
   "cell_type": "code",
   "execution_count": 63,
   "metadata": {},
   "outputs": [],
   "source": [
    "import pandas as pd\n",
    "from datetime import timedelta\n",
    "from pathlib import Path\n",
    "\n",
    "directory = Path().resolve()\n",
    "#data_directory = directory / \"data\"\n",
    "data_directory = directory / \"TESTERS\"\n",
    "file_name = \"test_data_1.csv\"\n",
    "test_data = data_directory / file_name"
   ]
  },
  {
   "cell_type": "markdown",
   "metadata": {},
   "source": [
    "Luetaan csv-tiedosto."
   ]
  },
  {
   "cell_type": "code",
   "execution_count": 38,
   "metadata": {},
   "outputs": [],
   "source": [
    "def check_delimiter(file) -> str:\n",
    "    \"\"\"\n",
    "    Determines the delimiter of the inputted csv-file. \n",
    "\n",
    "    Parameters:\n",
    "        file -- inputted csv-file (road image data)\n",
    "    \n",
    "    Returns:\n",
    "        ',' -- comma delimiter\n",
    "        ';' -- semicolon delimiter \n",
    "    \"\"\"\n",
    "    with open(file, 'r') as file:\n",
    "        firstline = file.readline()\n",
    "        if firstline.count(',') > firstline.count(';'):\n",
    "            return ','\n",
    "        else: \n",
    "            return ';'"
   ]
  },
  {
   "cell_type": "code",
   "execution_count": 39,
   "metadata": {},
   "outputs": [],
   "source": [
    "def check_dupes(df) -> bool:\n",
    "    dupes = df.duplicated(subset = ['kuvatieto_id'], keep = 'first')\n",
    "    dupe_rows = df[dupes]\n",
    "    if dupe_rows.shape[0] == 0:\n",
    "        return False\n",
    "    return True"
   ]
  },
  {
   "cell_type": "code",
   "execution_count": 40,
   "metadata": {},
   "outputs": [],
   "source": [
    "def extract_data(file) -> pd.DataFrame:\n",
    "    \"\"\"\n",
    "    Transforms the inputted csv-file into a more processable pandas dataframe; \n",
    "    removes unnecessary columns, and makes necessary changes to attribute values.\n",
    "\n",
    "    Parameters: \n",
    "        file -- File path as a string, with which the desired file is retrieved locally.\n",
    "                Note: use 2 backslashes ('\\\\') to avoid them being read as escapes. \n",
    "    \n",
    "    Returns:\n",
    "        df2 -- modified dataframe with the desired contents. \n",
    "    \"\"\"\n",
    "    delim = check_delimiter(file)\n",
    "    df = pd.read_csv(file, delimiter = delim)\n",
    "\n",
    "    selected = ['kuvatieto_id', 'tie', 'tieosa', 'etaisyys','suunta_tieosoite','kuvaussuunta', 'kuvausaika', 'nodirection']\n",
    "    df2 = df[selected]\n",
    "    if check_dupes(df2):\n",
    "        return 'Error! Duplicate(s) found'\n",
    "     \n",
    "    df2['kuvausaika'] = pd.to_datetime(df2['kuvausaika'])\n",
    "    \n",
    "    #changing suunta_tieosoite values to -99, so that they stand out once changes are made later\n",
    "    df2['suunta_tieosoite'] = -999\n",
    "    \n",
    "    return df2"
   ]
  },
  {
   "cell_type": "code",
   "execution_count": null,
   "metadata": {},
   "outputs": [],
   "source": [
    "# demo\n",
    "df1 = extract_data(test_data)\n",
    "df1.head()\n"
   ]
  },
  {
   "cell_type": "markdown",
   "metadata": {},
   "source": [
    "Järjestetään aineiston rivit (= kuvat) tieosoitteen mukaan ja aletaan rakentaa sisäkkäiset sanakirjat."
   ]
  },
  {
   "cell_type": "code",
   "execution_count": 42,
   "metadata": {},
   "outputs": [],
   "source": [
    "def reorder_df(df) -> pd.DataFrame:\n",
    "    pd.set_option('display.max_rows', 600)\n",
    "    return df.sort_values(by = ['tie', 'tieosa', 'etaisyys'])"
   ]
  },
  {
   "cell_type": "code",
   "execution_count": 43,
   "metadata": {},
   "outputs": [],
   "source": [
    "# demo\n",
    "df1 = reorder_df(df1)\n"
   ]
  },
  {
   "cell_type": "code",
   "execution_count": 44,
   "metadata": {},
   "outputs": [],
   "source": [
    "def degree_diff(angle1, angle2):\n",
    "    \"\"\"\n",
    "    Calculates the difference between two angles in degrees. \n",
    "\n",
    "    Parameters:\n",
    "        angle1 -- the angle of the first image in degrees \n",
    "        angle2 -- the angle of the second/reference image in degrees \n",
    "    \n",
    "    Returns: \n",
    "        The difference between the two angles as a float in the range 0-180\n",
    "    \"\"\"\n",
    "    if angle2 is not None:\n",
    "        difference = abs(angle1 - angle2)\n",
    "        return min(difference, 360 - difference)"
   ]
  },
  {
   "cell_type": "code",
   "execution_count": 45,
   "metadata": {},
   "outputs": [],
   "source": [
    "def can_append_to_list(image, last_image) -> bool:\n",
    "    \"\"\"\n",
    "    Determines whether an image can be added to an image series.\n",
    "\n",
    "    Parameters: \n",
    "        image -- list, image (and data) currently being examined in an iteration of the for-loop\n",
    "        last_image -- list, reference image (and data) retried from the \"last_images\" list. \n",
    "    \n",
    "    Returns:\n",
    "        True -- the conditions are met, image can be added\n",
    "        False -- one or multiple conditions not met\n",
    "    \"\"\"\n",
    "    new_distance, new_angle, new_time = image[0], image[2], image[3]\n",
    "    last_distance, last_angle, last_time = last_image[0], last_image[2], last_image[3]\n",
    "    distance_diff = abs(new_distance - last_distance)\n",
    "    angle_diff = degree_diff(new_angle, last_angle)\n",
    "    time_diff = abs(new_time - last_time)\n",
    "\n",
    "    # luodut ehdot samaan sarjaan kuulumiselle. Etäisyyseron raja-arvoa voi muokata (tämä vaikuttaa kuvasarjojen pituuteen). \n",
    "    return distance_diff <= 70 and angle_diff <= 40 and time_diff <= timedelta(minutes=1)"
   ]
  },
  {
   "cell_type": "code",
   "execution_count": 46,
   "metadata": {},
   "outputs": [],
   "source": [
    "def add_to_list(image, index: int, sections, last_images: list, tieosa):\n",
    "    \"\"\"\n",
    "    Adds the image to a fitting image series once it has been determined with\n",
    "    the can_append_to_list function. \n",
    "\n",
    "    Parametrit:\n",
    "        image -- list, image (and data) currently being examined in an iteration of the for-loop\n",
    "        index -- index, integer \n",
    "        sections -- the inner of the nested dictionary \"road_images\". The keys are road sections, \n",
    "                    and their values are lists of image series.\n",
    "        last_images -- a list of the last image in every series created in the for-loop thus far \n",
    "        tieosa -- the section of road on which the image currently being processed was taken \n",
    "\n",
    "    Returns:\n",
    "        None\n",
    "    \"\"\"\n",
    "    sections[tieosa][index].append(image)\n",
    "    last_images[index] = image "
   ]
  },
  {
   "cell_type": "code",
   "execution_count": 47,
   "metadata": {},
   "outputs": [],
   "source": [
    "def create_new_series(image, sections, last_images: list, tieosa): \n",
    "    \"\"\"\n",
    "    Creates a new image series in the event that none of the images in the last_images list are fitting. \n",
    "    Also appends the image to last_images\n",
    "\n",
    "    Parametrit:\n",
    "        image -- list, image (and data) currently being examined in an iteration of the for-loop\n",
    "        sections -- the inner of the nested dictionary \"road_images\". The keys are road sections, \n",
    "                    and their values are lists of image series.\n",
    "        last_images -- a list of the last image in every series created in the for-loop thus far \n",
    "        tieosa -- the section of road on which the image currently being processed was taken\n",
    "\n",
    "    Returns:\n",
    "        None\n",
    "    \"\"\"\n",
    "    if tieosa not in sections:\n",
    "        sections[tieosa] = []\n",
    "        \n",
    "    sections[tieosa].append([image])\n",
    "    last_images.append(image)"
   ]
  },
  {
   "cell_type": "code",
   "execution_count": 48,
   "metadata": {},
   "outputs": [],
   "source": [
    "def build_dict(df) -> dict:\n",
    "    \"\"\"\n",
    "    Constructs nested dictionaries and gives the image data a \n",
    "    more approachable and legible structure, organized by road \n",
    "    network address. Image series are on the lowest level as a \n",
    "    list of lists containing data about individual images that \n",
    "    have been separated by time, angle, and location along the \n",
    "    road network. During the series creation phase, series are \n",
    "    broken if the difference in time, angle or distance between\n",
    "    two adjacent images crosses the given limit value.  \n",
    "\n",
    "    The inner dictionary containing road sections as keys also\n",
    "    has a key named 'last_images' that contains the last image \n",
    "    of each image series created thus far. \n",
    "\n",
    "    Parameters:\n",
    "        df -- reordered datafame (created with the reorder_df function) \n",
    "\n",
    "    Returns:\n",
    "        road_images -- nested dictionary with the following structure. \n",
    "                    {\n",
    "                        tie: [\n",
    "                                {\n",
    "                                    tieosa: [\n",
    "                                        [\n",
    "                                        [etäisyys, kuvatieto_id, suunta, aika, suunta_tieosoite, nodirection],\n",
    "                                        ...\n",
    "                                        ],\n",
    "                                        ...\n",
    "                                    ],\n",
    "                                    'last_images': [\n",
    "\n",
    "                                        [etäisyys, kuvatieto_id, suunta, aika, suunta_tieosoite],\n",
    "                                        ...\n",
    "                                    ]\n",
    "                                },\n",
    "                            ...\n",
    "                            ],\n",
    "                        ...\n",
    "                    }\n",
    "\n",
    "    \"\"\"\n",
    "    road_images = {}\n",
    "\n",
    "    for index, row in df.iterrows():\n",
    "        tie = row['tie']\n",
    "        tieosa = row['tieosa']\n",
    "        etäisyys = row['etaisyys']\n",
    "        kuvatieto_id = row['kuvatieto_id']\n",
    "        suunta = row['kuvaussuunta']\n",
    "        aika = row['kuvausaika']\n",
    "        suunta_tieosoite = row['suunta_tieosoite']\n",
    "        no_direction = row['nodirection']\n",
    "\n",
    "        image = [etäisyys, kuvatieto_id, suunta, aika, suunta_tieosoite, no_direction]\n",
    "\n",
    "        if tie not in road_images:\n",
    "            road_images[tie] = []\n",
    "        \n",
    "        tieosa_olemassa  =  False\n",
    "        \n",
    "        for sections in road_images[tie]:\n",
    "            if tieosa in sections:\n",
    "                tieosa_olemassa = True\n",
    "                last_images = sections.get('last_images', [])\n",
    "                uusi_sarja = True \n",
    "\n",
    "                for i, last_image in enumerate(last_images):\n",
    "                    if can_append_to_list(image, last_image):\n",
    "                        add_to_list(image, i, sections, last_images, tieosa)\n",
    "                        uusi_sarja = False \n",
    "                        break \n",
    "                \n",
    "                if uusi_sarja:\n",
    "                    create_new_series(image, sections, last_images, tieosa)\n",
    "                \n",
    "                sections['last_images'] = last_images \n",
    "                break \n",
    "\n",
    "        if not tieosa_olemassa:\n",
    "            road_images[tie].append({tieosa: [[[etäisyys, kuvatieto_id, suunta, aika, suunta_tieosoite, no_direction]]],'last_images': [[etäisyys, kuvatieto_id, suunta, aika, suunta_tieosoite]]})\n",
    "    \n",
    "    return road_images "
   ]
  },
  {
   "cell_type": "code",
   "execution_count": 49,
   "metadata": {},
   "outputs": [],
   "source": [
    "def nice_print(dict):\n",
    "    \"\"\"\n",
    "    Prints the contents of the nested dictionary in a legible way. \n",
    "\n",
    "    Parameters:\n",
    "        dict -- nested dictionary built with the build_dict function \n",
    "\n",
    "    Returns:\n",
    "        None (print)\n",
    "\n",
    "    \"\"\"\n",
    "    for tie, sections in dict.items():\n",
    "        print(f\"Road number: {tie}\")\n",
    "        for section in sections:\n",
    "            for tieosa, datalist in section.items():\n",
    "                if tieosa == 'last_images':\n",
    "                    continue\n",
    "                print(f\"  Road section: {tieosa}\")\n",
    "                for series in datalist:\n",
    "                    for image in series:\n",
    "                        print(f\"    Kuvatieto_id: {image[1]:<6} | Distance: {image[0]:<4} | Angle: {image[2]:>5} ° | Time: {image[3]} | suunta_tieosoite: {image[4]} | No direction: {image[5]}\")\n",
    "                    print(\"\\n\")\n",
    "        print(f\"{40*\"- \"}\\n\")"
   ]
  },
  {
   "cell_type": "code",
   "execution_count": null,
   "metadata": {},
   "outputs": [],
   "source": [
    "# demo\n",
    "nice_print(build_dict(df1))"
   ]
  },
  {
   "cell_type": "markdown",
   "metadata": {},
   "source": [
    "Päätellään kuvasarjojen oikeat suunnat."
   ]
  },
  {
   "cell_type": "code",
   "execution_count": 51,
   "metadata": {},
   "outputs": [],
   "source": [
    "def define_direction(dict):\n",
    "    \"\"\"\n",
    "    Determines the direction (suunta_tieosoite) for image series. \n",
    "    \n",
    "    Parameters: \n",
    "        dict -- nested dictionary built with the build_dict function\n",
    "    \n",
    "    Returns:\n",
    "        dict -- nested dictionary in which the values for the suunta_tieosoite \n",
    "                attribute have been changed as follows:\n",
    "                1 = rising direction \n",
    "                2 = falling direction \n",
    "                -999 = undetermined\n",
    "\n",
    "                The boolean value in the nodirection column is also changed to False\n",
    "                if a new direction is assigned. \n",
    "    \"\"\"\n",
    "    for tie, sections in dict.items():\n",
    "            for section in sections:\n",
    "                for tieosa, datalist in section.items():\n",
    "                    if tieosa == 'last_images':\n",
    "                        continue\n",
    "                    for series in datalist:\n",
    "                        time_differnece = series[0][3] - series[-1][3]\n",
    "                        if len(series)>1 and time_differnece!=timedelta(seconds=0):\n",
    "                            if time_differnece < timedelta(seconds=0):\n",
    "                                for kuva in series:\n",
    "                                    kuva[4] = 1\n",
    "                                    kuva[5] = False\n",
    "                            elif time_differnece > timedelta(seconds=0):\n",
    "                                for kuva in series:\n",
    "                                    kuva[4] = 2\n",
    "                                    kuva[5] = False\n",
    "    return dict"
   ]
  },
  {
   "cell_type": "code",
   "execution_count": null,
   "metadata": {},
   "outputs": [],
   "source": [
    "# demo\n",
    "fixed_dict1 = define_direction(build_dict(df1))\n",
    "nice_print(fixed_dict1)"
   ]
  },
  {
   "cell_type": "markdown",
   "metadata": {},
   "source": [
    "Muunnetaan luodut sisäkkäiset sanakirjat takaisin yhdeksi Pandas-Dataframeksi, sellaiseen muotoon, jolla se voidaan viedä takaisin järjestelmään. "
   ]
  },
  {
   "cell_type": "code",
   "execution_count": 53,
   "metadata": {},
   "outputs": [],
   "source": [
    "def dict_to_df(dict) -> pd.DataFrame:\n",
    "    images = []\n",
    "    for tie, sections in dict.items():\n",
    "            for section in sections:\n",
    "                for tieosa, datalist in section.items():\n",
    "                    if tieosa == 'last_images':\n",
    "                         continue\n",
    "                    for series in datalist:\n",
    "                        for image in series:\n",
    "                            images.append({'kuvatieto_id': image[1], 'tie': image, 'tieosa': tieosa, \n",
    "                                          'etaisyys':image[0], 'kuvausaika': image[3], 'suunta_tieosoite': image[4], 'nodirection': image[5]})\n",
    "    df = pd.DataFrame(images)\n",
    "    \n",
    "    pd.set_option('display.max_rows', 600)\n",
    "    return df"
   ]
  },
  {
   "cell_type": "code",
   "execution_count": 54,
   "metadata": {},
   "outputs": [],
   "source": [
    "# demo\n",
    "fixed_df1 = dict_to_df(fixed_dict1)"
   ]
  },
  {
   "cell_type": "code",
   "execution_count": 55,
   "metadata": {},
   "outputs": [],
   "source": [
    "def changed_stats(df: pd.DataFrame):\n",
    "    \"\"\"\n",
    "    Calculates brief statistics based on a dataframe \n",
    "    with the changes made with the define_direction function. \n",
    "\n",
    "    Parameters: \n",
    "        df -- dataframe made with the dict_to_df function \n",
    "\n",
    "    Returns:\n",
    "        None (print)\n",
    "    \"\"\"\n",
    "    rows = len(df)\n",
    "    unchanged = df['suunta_tieosoite'].value_counts().get(-999, 0)\n",
    "    ones = df['suunta_tieosoite'].value_counts().get(1, 0)\n",
    "    twos = df['suunta_tieosoite'].value_counts().get(2, 0)\n",
    "    \n",
    "    header1 = \"Updated:\"\n",
    "    subheader1 = \"   Ones (rising)\" \n",
    "    subheader2 = \"   Twos (falling)\"\n",
    "    header2 = \"Unchanged:\" \n",
    "    header3 = \"TOTAL:\"\n",
    "\n",
    "    print(f\"\\nCompleted changes:\\n\")\n",
    "    print(f\"{header1:<25}|{(rows-unchanged):>10}\")\n",
    "    print(f\"{subheader1:<25}|{ones:>10}\")\n",
    "    print(f\"{subheader2:<25}|{twos:>10}\")\n",
    "    print(f\"{header2:<25}|{unchanged:>10}\")\n",
    "    print(f\"{header3:<25}|{rows:>10}\\n\")\n",
    "    print(f\"Of the inputted images, {((rows-unchanged)/rows):.1%} of them were updated.\\n\")"
   ]
  },
  {
   "cell_type": "code",
   "execution_count": 61,
   "metadata": {},
   "outputs": [],
   "source": [
    "def write_fixed_csv(file_name: str, destination_path: str, df: pd.DataFrame):\n",
    "    \"\"\"\n",
    "    Writes a dataframe into a csv-file to the user's desired destination.\n",
    "    The new csv-file is named after the originally inputted file.\n",
    "\n",
    "    Parameters:\n",
    "        filename -- the name of the original csv-file \n",
    "        destination_path -- the path of the folder where the new file will be saved \n",
    "        df -- dataframe to be written into a new csv-file  \n",
    "\n",
    "    Returns:\n",
    "        None, the function prints a confirmation message when the file has been successfully saved. \n",
    "    \"\"\"\n",
    "    file_name = file_name.replace('.csv','')\n",
    "    filename_updated = f'{file_name}_UPDATED.csv'\n",
    "    filename_nodirection = f'{file_name}_NODIRECTION.csv'\n",
    "\n",
    "    df.loc[df['nodirection'] == False].to_csv(destination_path / filename_updated, index = False)\n",
    "    df.loc[df['nodirection'] == True].to_csv(destination_path / filename_nodirection, index = False)\n",
    "\n",
    "    confirmation = f\"********* The updated csv-file was successfully saved. *********\"\n",
    "\n",
    "    changed_stats(df)\n",
    "    \n",
    "    print(f\"{len(confirmation)*\"*\"}\\n\\n{confirmation}\\n\\n{len(confirmation)*\"*\"}\")"
   ]
  },
  {
   "cell_type": "code",
   "execution_count": null,
   "metadata": {},
   "outputs": [],
   "source": [
    "# demo\n",
    "destination = data_directory\n",
    "write_fixed_csv(file_name, destination, fixed_df1)\n",
    "\n",
    "\n"
   ]
  },
  {
   "cell_type": "code",
   "execution_count": null,
   "metadata": {},
   "outputs": [],
   "source": [
    "# demo\n",
    "fixed_dict2 = define_direction(build_dict(reorder_df(extract_data(test_data))))\n",
    "fixed_df2 = dict_to_df(fixed_dict2)\n",
    "\n",
    "write_fixed_csv(file_name, destination, fixed_df2)"
   ]
  },
  {
   "cell_type": "code",
   "execution_count": null,
   "metadata": {},
   "outputs": [],
   "source": [
    "# demo\n",
    "nice_print(fixed_dict2)"
   ]
  }
 ],
 "metadata": {
  "kernelspec": {
   "display_name": "Python 3",
   "language": "python",
   "name": "python3"
  },
  "language_info": {
   "codemirror_mode": {
    "name": "ipython",
    "version": 3
   },
   "file_extension": ".py",
   "mimetype": "text/x-python",
   "name": "python",
   "nbconvert_exporter": "python",
   "pygments_lexer": "ipython3",
   "version": "3.13.1"
  }
 },
 "nbformat": 4,
 "nbformat_minor": 2
}
